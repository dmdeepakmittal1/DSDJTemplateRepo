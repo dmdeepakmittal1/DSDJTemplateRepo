{
 "cells": [
  {
   "cell_type": "markdown",
   "id": "possible-jamaica",
   "metadata": {},
   "source": [
    "# ----------------------------- 4D Development Process ------------------------"
   ]
  },
  {
   "cell_type": "markdown",
   "id": "handed-lottery",
   "metadata": {},
   "source": [
    "# Part 1 - Define"
   ]
  },
  {
   "cell_type": "markdown",
   "id": "ambient-affect",
   "metadata": {},
   "source": [
    "#### 1. Define the problem statment"
   ]
  },
  {
   "cell_type": "code",
   "execution_count": 1,
   "id": "weighted-march",
   "metadata": {},
   "outputs": [],
   "source": [
    "# Import the required libraries."
   ]
  },
  {
   "cell_type": "markdown",
   "id": "compatible-transcription",
   "metadata": {},
   "source": [
    "# Part 2 - Discover"
   ]
  },
  {
   "cell_type": "markdown",
   "id": "transsexual-organization",
   "metadata": {},
   "source": [
    "#### 2. Load the Data"
   ]
  },
  {
   "cell_type": "code",
   "execution_count": 2,
   "id": "danish-twenty",
   "metadata": {},
   "outputs": [],
   "source": [
    "# Load data into pandas DataFrame"
   ]
  },
  {
   "cell_type": "markdown",
   "id": "radical-thumbnail",
   "metadata": {},
   "source": [
    "#### 3. Clean the data"
   ]
  },
  {
   "cell_type": "code",
   "execution_count": 3,
   "id": "brown-despite",
   "metadata": {},
   "outputs": [],
   "source": [
    "# Look for duplicates, invalid data (eg - sal <=0), or corrupt data and remove it"
   ]
  },
  {
   "cell_type": "markdown",
   "id": "composite-wagner",
   "metadata": {},
   "source": [
    "#### 4. Explore the Data (EDA)"
   ]
  },
  {
   "cell_type": "code",
   "execution_count": 5,
   "id": "russian-kennedy",
   "metadata": {},
   "outputs": [],
   "source": [
    "# Summarize each feature variable\n",
    "# Summarize each target variable\n",
    "# Look for correlation between each feature and the target\n",
    "# Look for correlation between features"
   ]
  },
  {
   "cell_type": "markdown",
   "id": "weighted-conjunction",
   "metadata": {},
   "source": [
    "#### 5. Establish the baseline"
   ]
  },
  {
   "cell_type": "code",
   "execution_count": 6,
   "id": "right-nudist",
   "metadata": {},
   "outputs": [],
   "source": [
    "# select a reasonable metric (RMSE-\"Route Mean Square Measure\" in this case)\n",
    "# create a simple model and measure its efficacy"
   ]
  },
  {
   "cell_type": "markdown",
   "id": "fifth-liberia",
   "metadata": {},
   "source": [
    "#### 6. Hypothesize solution"
   ]
  },
  {
   "cell_type": "code",
   "execution_count": 7,
   "id": "subtle-diploma",
   "metadata": {},
   "outputs": [],
   "source": [
    "# Brainstorm 3 models based on EDA, that we think may improve results over baseline model and explain why.\n",
    "# Write down any new feature that we think, we should try adding to the model based on our EDA."
   ]
  },
  {
   "cell_type": "markdown",
   "id": "prime-documentation",
   "metadata": {},
   "source": [
    "# Part 3 - Develop"
   ]
  },
  {
   "cell_type": "markdown",
   "id": "written-rouge",
   "metadata": {},
   "source": [
    "#### 7. Engineer features"
   ]
  },
  {
   "cell_type": "code",
   "execution_count": 8,
   "id": "incomplete-narrative",
   "metadata": {},
   "outputs": [],
   "source": [
    "# Make sure data is ready for modeling\n",
    "# Create any new feature, which can help us to enhance the model."
   ]
  },
  {
   "cell_type": "markdown",
   "id": "toxic-preview",
   "metadata": {},
   "source": [
    "#### 8. Create Models"
   ]
  },
  {
   "cell_type": "code",
   "execution_count": 9,
   "id": "coordinate-filter",
   "metadata": {},
   "outputs": [],
   "source": [
    "# Create and tune the models that we brainstormed in Part-2"
   ]
  },
  {
   "cell_type": "markdown",
   "id": "aware-settlement",
   "metadata": {},
   "source": [
    "#### 9. Test Models"
   ]
  },
  {
   "cell_type": "code",
   "execution_count": 10,
   "id": "therapeutic-verse",
   "metadata": {},
   "outputs": [],
   "source": [
    "# Do 5-fold cross validation on models and measure RMSE"
   ]
  },
  {
   "cell_type": "markdown",
   "id": "characteristic-infection",
   "metadata": {},
   "source": [
    "#### 10. Select the best Model"
   ]
  },
  {
   "cell_type": "code",
   "execution_count": 11,
   "id": "generous-beverage",
   "metadata": {},
   "outputs": [],
   "source": [
    "# Select the best model with lowest error."
   ]
  },
  {
   "cell_type": "markdown",
   "id": "clean-photographer",
   "metadata": {},
   "source": [
    "# Part 4 - Deploy"
   ]
  },
  {
   "cell_type": "markdown",
   "id": "latter-colorado",
   "metadata": {},
   "source": [
    "#### 11. Automate pipeline"
   ]
  },
  {
   "cell_type": "code",
   "execution_count": 13,
   "id": "manual-alexander",
   "metadata": {},
   "outputs": [],
   "source": [
    "# Write scripts that trains model on entire \"training dataset\".\n",
    "# And score the \"test dataset\"."
   ]
  },
  {
   "cell_type": "markdown",
   "id": "danish-timer",
   "metadata": {},
   "source": [
    "#### 12. Deploy Solutions"
   ]
  },
  {
   "cell_type": "code",
   "execution_count": 14,
   "id": "nervous-wedding",
   "metadata": {},
   "outputs": [],
   "source": [
    "# Save your prediction to a csv file or as a table in a database.\n",
    "# Additionaly, save a visualization and summary of your prediction and feature importances.\n",
    "# These visualizations and Summaries can be used by business stakeholders."
   ]
  },
  {
   "cell_type": "markdown",
   "id": "based-yacht",
   "metadata": {},
   "source": [
    "#### 13. Measure efficacy"
   ]
  },
  {
   "cell_type": "code",
   "execution_count": 15,
   "id": "united-commander",
   "metadata": {},
   "outputs": [],
   "source": [
    "# This brings iterating process from Part-1, to get better outcomes\n",
    "# But we will skip this step since here we will be having static data."
   ]
  }
 ],
 "metadata": {
  "kernelspec": {
   "display_name": "Python 3",
   "language": "python",
   "name": "python3"
  },
  "language_info": {
   "codemirror_mode": {
    "name": "ipython",
    "version": 3
   },
   "file_extension": ".py",
   "mimetype": "text/x-python",
   "name": "python",
   "nbconvert_exporter": "python",
   "pygments_lexer": "ipython3",
   "version": "3.8.8"
  }
 },
 "nbformat": 4,
 "nbformat_minor": 5
}
